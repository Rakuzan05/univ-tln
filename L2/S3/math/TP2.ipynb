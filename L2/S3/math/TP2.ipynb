{
  "nbformat": 4,
  "nbformat_minor": 0,
  "metadata": {
    "colab": {
      "name": "TP2.ipynb",
      "provenance": [],
      "collapsed_sections": [],
      "authorship_tag": "ABX9TyPtNgR8PZOr1zzZmSkuhujH",
      "include_colab_link": true
    },
    "kernelspec": {
      "name": "python3",
      "display_name": "Python 3"
    }
  },
  "cells": [
    {
      "cell_type": "markdown",
      "metadata": {
        "id": "view-in-github",
        "colab_type": "text"
      },
      "source": [
        "<a href=\"https://colab.research.google.com/github/dxkkxn/univ-tln/blob/master/TP2.ipynb\" target=\"_parent\"><img src=\"https://colab.research.google.com/assets/colab-badge.svg\" alt=\"Open In Colab\"/></a>"
      ]
    },
    {
      "cell_type": "code",
      "metadata": {
        "id": "Npp7LzixsHwY",
        "colab": {
          "base_uri": "https://localhost:8080/"
        },
        "outputId": "c4b3a3d1-92c6-4de5-c89b-7cce823af26a"
      },
      "source": [
        "def pgcd(a,b):\n",
        "    if a < b :\n",
        "        a,b = b,a\n",
        "    while b != 0:\n",
        "        a,b = b, a % b\n",
        "    return a\n",
        "#print(pgcd(5, 45))\n",
        " \n",
        "def euclide_e(a, n):\n",
        "    u0 = 1\n",
        "    u1 = 0\n",
        "    v0 = 0\n",
        "    v1 = 1\n",
        " \n",
        "    while a%n != 0:\n",
        "        q = a//n\n",
        "        a, n = n, a % n\n",
        "        tmpu1 = u1\n",
        "        tmpv1 = v1\n",
        "        u1, v1 = u0-q*u1, v0-q*v1\n",
        "        u0,v0 = tmpu1,tmpv1\n",
        "    return[n,u1,v1]\n",
        "#print(euclide_e(7, 2))\n",
        " \n",
        "def inverse(a,p):\n",
        "    u0 = 1\n",
        "    u1 = 0  \n",
        "    v0 = 0\n",
        "    v1 = 1\n",
        "    tmpp=p\n",
        "    while a%p != 0:\n",
        "        q = a//p\n",
        "        a, p = p, a % p\n",
        "        tmpu1 = u1\n",
        "        tmpv1 = v1\n",
        "        u1, v1 = u0-q*u1, v0-q*v1\n",
        "        u0,v0 = tmpu1,tmpv1\n",
        "    return u1%tmpp\n",
        " \n",
        "#print(inverse(2,7))\n",
        " \n",
        "def euler_phi(n):\n",
        "    i=1\n",
        "    cpt = 0\n",
        "    while i < n:\n",
        "        oldi = i\n",
        "        oldn = n\n",
        "        while oldn != 0:\n",
        "            oldi, oldn = oldn, oldi % oldn\n",
        "        if oldi == 1:\n",
        "            cpt += 1\n",
        "        i += 1\n",
        "    return cpt\n",
        " \n",
        "#print(euler_phi(6))\n",
        " \n",
        "def decompose(n,b):\n",
        "    L=[]\n",
        "    while n > 0:\n",
        "        L= [n%b] + L\n",
        "        n = n//b\n",
        " \n",
        "    return L\n",
        "#print(decompose(25, 3))\n",
        "#print(decompose(25, 2))\n",
        " \n",
        "def valeur(L, b):\n",
        "    sum = L[-1]\n",
        "    j= -2\n",
        "    pow = b\n",
        "    while j >= -len(L):\n",
        "      sum += L[j]*pow\n",
        "      pow = pow*b\n",
        "      j -= 1\n",
        "    return sum\n",
        "#print(valeur([3,2,1],5))\n",
        " \n",
        "def decomposePremiers(n):\n",
        "  listePremier = []\n",
        "  if n%2 == 0:\n",
        "    listePremier += [2]\n",
        "  while n%2 == 0:\n",
        "    n = n//2\n",
        "  i = 3\n",
        "  while n != 1 :\n",
        "    if n%i == 0 :\n",
        "      listePremier += [i]\n",
        "    while n % i == 0 :\n",
        "      n = n // i\n",
        "    i += 2\n",
        "  return listePremier\n",
        " \n",
        "#print(decomposePremiers(99999876400))\n",
        "def ord(a, n):\n",
        "  true_n = n \n",
        "  while a != 0 :\n",
        "    n, a = a, n%a\n",
        "  return true_n//n \n",
        "  \n",
        "#print(ord(9, 10))\n",
        " \n",
        "def generateurs(n):\n",
        "  listeGenerateus = []\n",
        "  i = 1\n",
        "  while i < n  :\n",
        "    if pgcd(i,n) == 1:\n",
        "      listeGenerateus += [i]\n",
        "    i += 1\n",
        "  return listeGenerateus\n",
        " \n",
        "#print(generateurs(10))\n",
        " \n",
        "def generateurs_x(n):\n",
        "  gen_list = []\n",
        "  prime_num = decomposePremiers(n-1)\n",
        "  i = 1 \n",
        "  while i < n:\n",
        "    j=0\n",
        "    boolean = True\n",
        "    while j < len(prime_num) and boolean:\n",
        "      if pow(i,(n-1)//prime_num[j],n) == 1:\n",
        "        boolean = False\n",
        "      j += 1\n",
        "    if boolean == True:\n",
        "      gen_list += [i]\n",
        "    i += 1\n",
        "  return gen_list\n",
        " \n",
        "#print(generateurs_x(11))      \n",
        " \n",
        "from random import randrange \n",
        "def generateur_sg(n):\n",
        "  i = randrange(1,n)\n",
        "  while pow(i,(n-1)//2,n) == 1 or pow(i,2,n) == 1 :\n",
        "    i = randrange(1, n)\n",
        "  return i\n",
        " \n",
        "#print(generateur_sg(11))\n",
        " \n",
        "def ord_x(a,p):\n",
        "  i = 1\n",
        "  omin = p\n",
        "  while i <= (p-1)**0.5 :\n",
        "    if (p-1) % i == 0:\n",
        "      if pow(a,i,p) == 1:\n",
        "        return i \n",
        "      if pow(a,(p-1)//i,p) == 1:\n",
        "        if omin > (p-1)/i:\n",
        "          omin = (p-1)/i \n",
        "    i += 1\n",
        "  return omin \n",
        "\n",
        "print(ord_x(4,7)) \n"
      ],
      "execution_count": null,
      "outputs": [
        {
          "output_type": "stream",
          "text": [
            "3.0\n"
          ],
          "name": "stdout"
        }
      ]
    },
    {
      "cell_type": "code",
      "metadata": {
        "id": "v6zo-I57iy5b",
        "colab": {
          "base_uri": "https://localhost:8080/",
          "height": 34
        },
        "outputId": "60f6909e-06d0-4c62-be0f-b199984c4835"
      },
      "source": [
        ""
      ],
      "execution_count": null,
      "outputs": [
        {
          "output_type": "stream",
          "text": [
            "1\n"
          ],
          "name": "stdout"
        }
      ]
    }
  ]
}